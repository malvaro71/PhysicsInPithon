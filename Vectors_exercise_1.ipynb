{
  "metadata": {
    "kernelspec": {
      "name": "python",
      "display_name": "Python (Pyodide)",
      "language": "python"
    },
    "language_info": {
      "codemirror_mode": {
        "name": "python",
        "version": 3
      },
      "file_extension": ".py",
      "mimetype": "text/x-python",
      "name": "python",
      "nbconvert_exporter": "python",
      "pygments_lexer": "ipython3",
      "version": "3.8"
    }
  },
  "nbformat_minor": 4,
  "nbformat": 4,
  "cells": [
    {
      "cell_type": "markdown",
      "source": "# Vectors exercise 1",
      "metadata": {}
    },
    {
      "cell_type": "markdown",
      "source": "A boatman is rowing on a boat, wanting to always stay perpendicular to the river bank and crossing with an average speed of 9 km / h. The river water flows with a speed of 9 km / h. How fast should the boat be propelled? In what direction? ",
      "metadata": {}
    },
    {
      "cell_type": "markdown",
      "source": "The velocity of the boat `vecv_b` is the sum of the velocity with which the boat `vecv_p` is propelled by the boatman plus the velocity of the river water `vecv_r`. Then: ",
      "metadata": {}
    },
    {
      "cell_type": "code",
      "source": "# Exercise 2_1\n# A boatman is rowing on the boat, wanting to always stay perpendicular to the\n# river bank and crossing with an average speed of 36 km / h. The river water\n# flows with a speed of 9 km / h. How fast should the boat be propelled?\n# In what direction?\n\n# Import matplotlib to plot problem vectors\nimport matplotlib.pyplot as plt\n\n# Import patches from matplotlib\nfrom matplotlib import patches\n\n# Import numpy for vector calculations\nimport numpy as np\n\n# set the cartesian plane whith the river bank parallel to x-axis.\n# Exercise data\nv_r = np.array([9, 0])  # Water velocity parallel to x-axis (km/h).\nv_b = np.array([0, 36])  # Speed of 36 km/h perpendicular to river bank.\n\n# Velocity of the boat is the sum of water velocity and propelled velocity.\n# So, Propelled velocity is (boat velocity - water velocity)\nv_p = v_b - v_r\n\n# Speed of the propelled boat (magnitude of propelled velocity)\nnorm_v_propelled = np.linalg.norm(v_p)\n\n# Calculate angle phi, in degrees, between x-axis and v_propelled\nphi = np.arctan2(v_p[1], v_p[0])\n# Ref: https://numpy.org/doc/stable/reference/generated/numpy.arctan2.html\nphi_degrees = np.degrees(phi)\n\n# Print the results\nprint(f\"Speed of the propelled boat: {norm_v_propelled:.2f} km/h\")\nprint(f\"Direction: {phi_degrees:.2f} degrees\"\n      \"counter-clockwise from the riverbank\")\n\n# Create a figure and axes object\nfig, ax = plt.subplots(figsize=(6, 6))  # Adjust figure size in inches\n\n# Set x and y axis limits\nax.set_xlim(-15, 45)\nax.set_ylim(-5, 45)\n\n# Set axis labels\nax.set_xlabel(\"X-axis (km/h)\")\nax.set_ylabel(\"Y-axis (km/h)\")\nax.set_title(\"River, Boat, and Propelled Velocities\")\n\n# Turn on the grid lines\nax.grid(True)\n\n# Plot vectors as arrows using object-oriented approach\n# Plot the vectors\nax.arrow(0, 0, v_r[0], v_r[1], head_width=1, head_length=1, fc='blue',\n         ec='blue', label='River Velocity')\nax.arrow(0, 0, v_b[0], v_b[1], head_width=1, head_length=1, fc='red',\n         ec='red', label='Boat Velocity')\nax.arrow(0, 0, v_p[0], v_p[1], head_width=1, head_length=1, fc='green',\n         ec='green', label='Propelled Velocity')\n\n# Plot the arc using patches.Arc with object-oriented approach\narc = patches.Arc((0, 0), width=4, height=4, angle=0,\n                  theta1=0, theta2=phi_degrees, linewidth=2, color='red')\nax.add_patch(arc)  # Add arc to the axes\n\n# Place angle text on the plot\nax.text(2*np.cos(phi/2), 2*np.sin(phi/2), f\"{phi_degrees:.0f} degrees\",\n        ha='left', va='bottom')\nax.text(norm_v_propelled/2*np.cos(phi), norm_v_propelled/2*np.sin(phi),\n        f\"{norm_v_propelled:.0f} Km/h \", ha='right', va='bottom')\n\n# Add legend\nax.legend()\n\n# Display the plot\nplt.show()\nplt.legend()",
      "metadata": {
        "trusted": true
      },
      "outputs": [],
      "execution_count": null
    },
    {
      "cell_type": "markdown",
      "source": "<p>\n        A boatman is rowing on the boat, wanting to always stay perpendicular to the river bank and crossing with an average speed of 9 km / h. The river water flows with a speed of 9 km / h. How fast should the boat be propelled? In what direction?\n    </p>\n    <p>\n        The velocity of the boat `vecv_b` is the sum of the velocity with which the boat `vecv_p` is propelled by the boatman plus the velocity of the river water `vecv_r`. Then:\n    </p>\n    <p>\n        &emsp; `vecv_p = vecv_b - vecv_r `,\n    </p>\n    <p>\n        If we choose the coordinate plane so that the x-axis has the same direction as the river:\n    </p>\n    <p>\n            &emsp; `vecv_b` = (${vBoat[0]}, ${vBoat[1]}) Km/h,\n    </p>\n    <p>\n            &emsp; `vecv_r` = (${vRiver}) Km/h,\n    </p>\n    <p>\n            &emsp; `vecv_p` = (${vBoat}) - (${vRiver}) = (${vPropelled}) Km/h,\n    </p>\n    <p>\n        The magnitude of the vector \\`vec v_p\\` is the speed at which the boat is propelled, is expressed as \\`norm(vecv_p)\\` and, according to <a href=\"#[1.2]\">[1.2]</a>, is calculated as:\n    </p>\n    <p>\n        &emsp; `norm(vecv_p) = sqrt(v_x^2+v_y^2) = sqrt(9^2 + 36^2) = sqrt(81+1296) = sqrt(1377)` = ${normvPropelled.toFixed(1)} Km/h.\n    </p>\n    <p>\n        The value of the angle &phi; is the direction in which the boat is propelled, corresponds to the orientation of \\`vecv_p\\` and according to <a href=\"#[1.13]\">[1.13]</a>, is calculated as:\n    </p>\n    <p>\n        &emsp; &phi; ` = arccos((norm(vecv_p)norm(vecv_r))/(vecv_p*vecv_r))` = ${phi.toFixed(1)}º\n    </p>\n    <p>\n        So, the answer to the exercise is that the boat must be propeled at a speed of ${normvPropelled.toFixed(1)} Km/h and in a direction that forms ${phi.toFixed(1)}º with the river.\n    </p>",
      "metadata": {}
    },
    {
      "cell_type": "code",
      "source": "",
      "metadata": {
        "trusted": true
      },
      "outputs": [],
      "execution_count": null
    }
  ]
}